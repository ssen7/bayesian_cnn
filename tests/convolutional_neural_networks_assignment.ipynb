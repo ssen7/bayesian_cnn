{
 "cells": [
  {
   "cell_type": "markdown",
   "metadata": {
    "colab_type": "text",
    "id": "z-__RAO5t53G"
   },
   "source": [
    "## Convolutional Neural Networks (CNNs)\n",
    "\n",
    "In this notebook, we will learn to use pytorch's autograd. We will not be implementing gradient computations anymore. First, we will re-implement FashionMNIST Classification using pytorch. Then we will perform FashionMNIST Classification using the LeNet convolutional neural network. We will also be using GPUs for the first time to accelerate computations.\n"
   ]
  },
  {
   "cell_type": "markdown",
   "metadata": {
    "colab_type": "text",
    "id": "Y5AUSc3jufKi"
   },
   "source": [
    "### 1. Using the GPU with pytorch\n"
   ]
  },
  {
   "cell_type": "markdown",
   "metadata": {
    "colab_type": "text",
    "id": "Vby-ogCCxYwa"
   },
   "source": [
    "This code will show you how easy is to do GPU computations in pytorch, and how fast they can be. Note that the first time you run this code there might be some delay in starting up the GPU, so it might actually be slower, so try running this cell multiple times."
   ]
  },
  {
   "cell_type": "code",
   "execution_count": 1,
   "metadata": {
    "colab": {
     "base_uri": "https://localhost:8080/",
     "height": 85
    },
    "colab_type": "code",
    "id": "j0JJRfD6ti7m",
    "outputId": "1fb3f9ba-612f-47f9-a215-362ec6da500d"
   },
   "outputs": [
    {
     "name": "stdout",
     "output_type": "stream",
     "text": [
      "CPU-time 1.419769s\n",
      "GPU-time 8.772846s\n",
      "\n",
      "CPU was 0.16x times the GPU time\n"
     ]
    }
   ],
   "source": [
    "import torch\n",
    "import time\n",
    "\n",
    "# Let's create two matrices of size dxd and full of random values.\n",
    "d = 5000\n",
    "a = torch.rand(d, d)\n",
    "b = torch.rand(d, d)\n",
    "\n",
    "# Compute a multiplication between the two matrices in CPU.\n",
    "start_time = time.time()\n",
    "output = torch.mm(a,b)  # Regular multiplication in CPU.\n",
    "cpu_time = time.time() - start_time\n",
    "print('CPU-time {0:.6f}s'.format(cpu_time))\n",
    "\n",
    "# Compute a multiplication between the two matrices in GPU.\n",
    "start_time = time.time()\n",
    "a = a.cuda() # Move to GPU.\n",
    "b = b.cuda() # Move to GPU.\n",
    "output = torch.mm(a,b)  # Multiplication happens in GPU.\n",
    "gpu_time = time.time() - start_time\n",
    "print('GPU-time {0:.6f}s\\n'.format(gpu_time))\n",
    "\n",
    "print('CPU was {0:.2f}x times the GPU time'.format(cpu_time / gpu_time))\n"
   ]
  },
  {
   "cell_type": "markdown",
   "metadata": {
    "colab_type": "text",
    "id": "IWcBZ9B8uLKM"
   },
   "source": [
    "Trry experimenting with different values of $d$ and check what kind of improvements in the speed you can get on GPU compared to CPU."
   ]
  },
  {
   "cell_type": "markdown",
   "metadata": {
    "colab_type": "text",
    "id": "PGdZ-bmxb473"
   },
   "source": [
    "### 2. Mini-batch SGD on FashionMNIST using pytorch nn's package.\n"
   ]
  },
  {
   "cell_type": "markdown",
   "metadata": {
    "colab_type": "text",
    "id": "zUfYXo8McA14"
   },
   "source": [
    "In this section we will train a two-layer neural network using pytorch's nn package. First, we will define, the model and its operations. Then we will train the model using mini-batch gradient descent."
   ]
  },
  {
   "cell_type": "code",
   "execution_count": 2,
   "metadata": {
    "colab": {},
    "colab_type": "code",
    "id": "ZtkRGI5jDEKh"
   },
   "outputs": [],
   "source": [
    "import torch.nn as nn\n",
    "import torch.nn.functional as F\n",
    "\n",
    "class TwoLayerNN(nn.Module):\n",
    "    def __init__(self):\n",
    "        super(TwoLayerNN, self).__init__()\n",
    "        self.linear1 = nn.Linear(1 * 28 * 28, 512)\n",
    "        self.linear2 = nn.Linear(512, 10)\n",
    "        \n",
    "    def forward(self, x):\n",
    "        x = x.view(batchSize, 1 * 28 * 28)\n",
    "        z = F.relu(self.linear1(x))\n",
    "        return self.linear2(z)    "
   ]
  },
  {
   "cell_type": "markdown",
   "metadata": {
    "colab_type": "text",
    "id": "o4-IZG3dDE95"
   },
   "source": [
    "The training code is similar to the code used before."
   ]
  },
  {
   "cell_type": "code",
   "execution_count": 7,
   "metadata": {
    "colab": {
     "base_uri": "https://localhost:8080/",
     "height": 714
    },
    "colab_type": "code",
    "id": "IJDmV7Xgb3RI",
    "outputId": "2abcc5ea-e772-415f-fd53-6dd4459f9bac"
   },
   "outputs": [],
   "source": [
    "import torchvision\n",
    "import torchvision.transforms as transforms\n",
    "from torchvision.datasets import FashionMNIST\n",
    "import torch.optim as optim\n",
    "\n",
    "# Removes, the need to call F.to_image ourselves.\n",
    "# Also, please look up what transforms.Normalize does.\n",
    "# transform = transforms.Compose([transforms.ToTensor(),\n",
    "#                                transforms.Normalize((0.5, 0.5, 0.5), \n",
    "#                                                     (0.5, 0.5, 0.5))])\n",
    "transform = transforms.Compose([transforms.ToTensor(),\n",
    "  transforms.Normalize((0.5,), (0.5,))\n",
    "])\n",
    "\n",
    "# Load the training, and validation datasets.\n",
    "trainset = FashionMNIST(root = './data', train = True, transform = transform, download = True)\n",
    "valset = FashionMNIST(root = './data', train = False, transform = transform, download = True)\n",
    "\n",
    "# Pytorch DataLoader for iterating over batches.\n",
    "batchSize = 100\n",
    "\n",
    "# Create the model.\n",
    "model = TwoLayerNN()\n",
    "loss_fn = nn.CrossEntropyLoss()\n",
    "\n",
    "# Define a learning rate. \n",
    "learningRate = 5e-2\n",
    "\n",
    "# Optimizer.\n",
    "optimizer = optim.SGD(model.parameters(), lr = learningRate, \n",
    "                      momentum = 0.9, weight_decay = 1e-4)"
   ]
  },
  {
   "cell_type": "code",
   "execution_count": 8,
   "metadata": {
    "colab": {
     "base_uri": "https://localhost:8080/",
     "height": 714
    },
    "colab_type": "code",
    "id": "IJDmV7Xgb3RI",
    "outputId": "2abcc5ea-e772-415f-fd53-6dd4459f9bac"
   },
   "outputs": [
    {
     "name": "stdout",
     "output_type": "stream",
     "text": [
      "Train-epoch 0. Iteration 00100, Avg-Loss: 0.7469, Accuracy: 0.7333\n",
      "Train-epoch 0. Iteration 00200, Avg-Loss: 0.6369, Accuracy: 0.7703\n",
      "Train-epoch 0. Iteration 00300, Avg-Loss: 0.5842, Accuracy: 0.7886\n",
      "Train-epoch 0. Iteration 00400, Avg-Loss: 0.5493, Accuracy: 0.8013\n",
      "Train-epoch 0. Iteration 00500, Avg-Loss: 0.5271, Accuracy: 0.8093\n",
      "Train-epoch 0. Iteration 00600, Avg-Loss: 0.5120, Accuracy: 0.8145\n",
      "Validation-epoch 0. Avg-Loss: 0.4374, Accuracy: 0.8421\n",
      "Train-epoch 1. Iteration 00100, Avg-Loss: 0.3897, Accuracy: 0.8552\n",
      "Train-epoch 1. Iteration 00200, Avg-Loss: 0.4036, Accuracy: 0.8517\n",
      "Train-epoch 1. Iteration 00300, Avg-Loss: 0.4049, Accuracy: 0.8534\n",
      "Train-epoch 1. Iteration 00400, Avg-Loss: 0.4026, Accuracy: 0.8542\n",
      "Train-epoch 1. Iteration 00500, Avg-Loss: 0.4013, Accuracy: 0.8540\n",
      "Train-epoch 1. Iteration 00600, Avg-Loss: 0.3991, Accuracy: 0.8543\n",
      "Validation-epoch 1. Avg-Loss: 0.4267, Accuracy: 0.8399\n",
      "Train-epoch 2. Iteration 00100, Avg-Loss: 0.3803, Accuracy: 0.8593\n",
      "Train-epoch 2. Iteration 00200, Avg-Loss: 0.3794, Accuracy: 0.8614\n",
      "Train-epoch 2. Iteration 00300, Avg-Loss: 0.3775, Accuracy: 0.8631\n",
      "Train-epoch 2. Iteration 00400, Avg-Loss: 0.3728, Accuracy: 0.8649\n",
      "Train-epoch 2. Iteration 00500, Avg-Loss: 0.3682, Accuracy: 0.8666\n",
      "Train-epoch 2. Iteration 00600, Avg-Loss: 0.3656, Accuracy: 0.8675\n",
      "Validation-epoch 2. Avg-Loss: 0.4111, Accuracy: 0.8477\n",
      "Train-epoch 3. Iteration 00100, Avg-Loss: 0.3461, Accuracy: 0.8682\n",
      "Train-epoch 3. Iteration 00200, Avg-Loss: 0.3481, Accuracy: 0.8702\n",
      "Train-epoch 3. Iteration 00300, Avg-Loss: 0.3540, Accuracy: 0.8700\n",
      "Train-epoch 3. Iteration 00400, Avg-Loss: 0.3502, Accuracy: 0.8726\n",
      "Train-epoch 3. Iteration 00500, Avg-Loss: 0.3489, Accuracy: 0.8728\n",
      "Train-epoch 3. Iteration 00600, Avg-Loss: 0.3492, Accuracy: 0.8729\n",
      "Validation-epoch 3. Avg-Loss: 0.3846, Accuracy: 0.8639\n",
      "Train-epoch 4. Iteration 00100, Avg-Loss: 0.3306, Accuracy: 0.8808\n",
      "Train-epoch 4. Iteration 00200, Avg-Loss: 0.3246, Accuracy: 0.8815\n",
      "Train-epoch 4. Iteration 00300, Avg-Loss: 0.3228, Accuracy: 0.8816\n",
      "Train-epoch 4. Iteration 00400, Avg-Loss: 0.3204, Accuracy: 0.8822\n",
      "Train-epoch 4. Iteration 00500, Avg-Loss: 0.3238, Accuracy: 0.8815\n",
      "Train-epoch 4. Iteration 00600, Avg-Loss: 0.3257, Accuracy: 0.8810\n",
      "Validation-epoch 4. Avg-Loss: 0.3992, Accuracy: 0.8597\n"
     ]
    }
   ],
   "source": [
    "def train_model(model, loss_fn, batchSize, trainset, valset, optimizer):\n",
    "    # Shuffling is needed in case dataset is not shuffled by default.\n",
    "    train_loader = torch.utils.data.DataLoader(dataset=trainset,\n",
    "                                              batch_size=batchSize,\n",
    "                                              shuffle=True)\n",
    "    # We don't need to bach the validation set but let's do it anyway.\n",
    "    val_loader = torch.utils.data.DataLoader(dataset=valset,\n",
    "                                            batch_size=batchSize,\n",
    "                                            shuffle=False)  # No need.\n",
    "    # Define number of epochs.\n",
    "    N = 5\n",
    "    # log accuracies and losses.\n",
    "    train_accuracies = []; val_accuracies = []\n",
    "    train_losses = []; val_losses = []\n",
    "    # GPU enabling.\n",
    "    model = model.cuda()\n",
    "    loss_fn = loss_fn.cuda()\n",
    "    # Training loop. Please make sure you understand every single line of code below.\n",
    "    # Go back to some of the previous steps in this lab if necessary.\n",
    "    for epoch in range(0, N):\n",
    "        correct = 0.0\n",
    "        cum_loss = 0.0\n",
    "\n",
    "      # Make a pass over the training data.\n",
    "        model.train()\n",
    "        for (i, (inputs, labels)) in enumerate(train_loader):\n",
    "            inputs = inputs.cuda()\n",
    "            labels = labels.cuda()\n",
    "\n",
    "            # Forward pass. (Prediction stage)\n",
    "            scores = model(inputs)\n",
    "            loss = loss_fn(scores, labels)\n",
    "\n",
    "            # Count how many correct in this batch.\n",
    "            max_scores, max_labels = scores.max(1)\n",
    "            correct += (max_labels == labels).sum().item()\n",
    "            cum_loss += loss.item()\n",
    "\n",
    "            # Zero the gradients in the network.\n",
    "            optimizer.zero_grad()\n",
    "\n",
    "            # Backward pass. (Gradient computation stage)\n",
    "            loss.backward()\n",
    "\n",
    "            # Parameter updates (SGD step) -- if done with torch.optim!\n",
    "            optimizer.step()\n",
    "\n",
    "          # Parameter updates (SGD step) -- if done manually!\n",
    "          # for param in model.parameters():\n",
    "          #   param.data.add_(-learningRate, param.grad)\n",
    "\n",
    "          # Logging the current results on training.\n",
    "            if (i + 1) % 100 == 0:\n",
    "                print('Train-epoch %d. Iteration %05d, Avg-Loss: %.4f, Accuracy: %.4f' % (epoch, i + 1, cum_loss / (i + 1), correct / ((i + 1) * batchSize)))\n",
    "\n",
    "        train_accuracies.append(correct / len(trainset))\n",
    "        train_losses.append(cum_loss / (i + 1))   \n",
    "\n",
    "        # Make a pass over the validation data.\n",
    "        correct = 0.0\n",
    "        cum_loss = 0.0\n",
    "        model.eval()\n",
    "        for (i, (inputs, labels)) in enumerate(val_loader):\n",
    "            inputs = inputs.cuda()\n",
    "            labels = labels.cuda()\n",
    "\n",
    "            # Forward pass. (Prediction stage)\n",
    "            scores = model(inputs)\n",
    "            cum_loss += loss_fn(scores, labels).item()\n",
    "\n",
    "            # Count how many correct in this batch.\n",
    "            max_scores, max_labels = scores.max(1)\n",
    "            correct += (max_labels == labels).sum().item()\n",
    "\n",
    "        val_accuracies.append(correct / len(valset))\n",
    "        val_losses.append(cum_loss / (i + 1))\n",
    "\n",
    "        # Logging the current results on validation.\n",
    "        print('Validation-epoch %d. Avg-Loss: %.4f, Accuracy: %.4f' % \n",
    "            (epoch, cum_loss / (i + 1), correct / len(valset)))\n",
    "\n",
    "train_model(model, loss_fn, batchSize, trainset, valset, optimizer)\n"
   ]
  },
  {
   "cell_type": "markdown",
   "metadata": {
    "colab_type": "text",
    "id": "NheOKVEvktSU"
   },
   "source": [
    "We achieved an accuracy of 86% and achieved 83% in only one epoch. Our model is very similar to the models we implemented before, but now we are using SGD with regularization (weightDecay), and momentum updates (using the history of previous gradients) in order to update the parameters. We also have generic train_model function that is independent of the model passed as a parameter. We no longer need to focus on this training loop, and instead can concentrate in the design of models. "
   ]
  },
  {
   "cell_type": "markdown",
   "metadata": {
    "colab_type": "text",
    "id": "rL8RK38atNE5"
   },
   "source": [
    "### 3. Convolutional Neural Network -- LeNet\n"
   ]
  },
  {
   "cell_type": "markdown",
   "metadata": {
    "colab_type": "text",
    "id": "w2SukZfmtbH_"
   },
   "source": [
    "We are close to implementing a neural network, we can accomplish this by stacking a linear operation on top of a Rectified Linear Unit (ReLU) activation, another linear operation, and the softmax + negative log likelihood loss. This is all it takes to create simple neural network with one hidden layer. First, let's implement the ReLU layer as we implemented the linear layer. "
   ]
  },
  {
   "cell_type": "code",
   "execution_count": 9,
   "metadata": {
    "colab": {
     "base_uri": "https://localhost:8080/",
     "height": 612
    },
    "colab_type": "code",
    "id": "i6ZplFBMwAkD",
    "outputId": "8ccae868-2c1e-4481-c715-84bb2b013e9c"
   },
   "outputs": [
    {
     "name": "stdout",
     "output_type": "stream",
     "text": [
      "Train-epoch 0. Iteration 00100, Avg-Loss: 0.9444, Accuracy: 0.6555\n",
      "Train-epoch 0. Iteration 00200, Avg-Loss: 0.7648, Accuracy: 0.7184\n",
      "Train-epoch 0. Iteration 00300, Avg-Loss: 0.6716, Accuracy: 0.7522\n",
      "Train-epoch 0. Iteration 00400, Avg-Loss: 0.6112, Accuracy: 0.7756\n",
      "Train-epoch 0. Iteration 00500, Avg-Loss: 0.5690, Accuracy: 0.7906\n",
      "Train-epoch 0. Iteration 00600, Avg-Loss: 0.5399, Accuracy: 0.8015\n",
      "Validation-epoch 0. Avg-Loss: 0.3804, Accuracy: 0.8616\n",
      "Train-epoch 1. Iteration 00100, Avg-Loss: 0.3661, Accuracy: 0.8684\n",
      "Train-epoch 1. Iteration 00200, Avg-Loss: 0.3559, Accuracy: 0.8712\n",
      "Train-epoch 1. Iteration 00300, Avg-Loss: 0.3511, Accuracy: 0.8730\n",
      "Train-epoch 1. Iteration 00400, Avg-Loss: 0.3422, Accuracy: 0.8752\n",
      "Train-epoch 1. Iteration 00500, Avg-Loss: 0.3344, Accuracy: 0.8777\n",
      "Train-epoch 1. Iteration 00600, Avg-Loss: 0.3307, Accuracy: 0.8788\n",
      "Validation-epoch 1. Avg-Loss: 0.3227, Accuracy: 0.8839\n",
      "Train-epoch 2. Iteration 00100, Avg-Loss: 0.2822, Accuracy: 0.8971\n",
      "Train-epoch 2. Iteration 00200, Avg-Loss: 0.2857, Accuracy: 0.8947\n",
      "Train-epoch 2. Iteration 00300, Avg-Loss: 0.2880, Accuracy: 0.8943\n",
      "Train-epoch 2. Iteration 00400, Avg-Loss: 0.2870, Accuracy: 0.8950\n",
      "Train-epoch 2. Iteration 00500, Avg-Loss: 0.2839, Accuracy: 0.8963\n",
      "Train-epoch 2. Iteration 00600, Avg-Loss: 0.2807, Accuracy: 0.8976\n",
      "Validation-epoch 2. Avg-Loss: 0.3108, Accuracy: 0.8873\n",
      "Train-epoch 3. Iteration 00100, Avg-Loss: 0.2424, Accuracy: 0.9122\n",
      "Train-epoch 3. Iteration 00200, Avg-Loss: 0.2433, Accuracy: 0.9121\n",
      "Train-epoch 3. Iteration 00300, Avg-Loss: 0.2452, Accuracy: 0.9108\n",
      "Train-epoch 3. Iteration 00400, Avg-Loss: 0.2485, Accuracy: 0.9100\n",
      "Train-epoch 3. Iteration 00500, Avg-Loss: 0.2494, Accuracy: 0.9094\n",
      "Train-epoch 3. Iteration 00600, Avg-Loss: 0.2482, Accuracy: 0.9099\n",
      "Validation-epoch 3. Avg-Loss: 0.2991, Accuracy: 0.8938\n",
      "Train-epoch 4. Iteration 00100, Avg-Loss: 0.2145, Accuracy: 0.9216\n",
      "Train-epoch 4. Iteration 00200, Avg-Loss: 0.2178, Accuracy: 0.9198\n",
      "Train-epoch 4. Iteration 00300, Avg-Loss: 0.2192, Accuracy: 0.9196\n",
      "Train-epoch 4. Iteration 00400, Avg-Loss: 0.2198, Accuracy: 0.9197\n",
      "Train-epoch 4. Iteration 00500, Avg-Loss: 0.2203, Accuracy: 0.9194\n",
      "Train-epoch 4. Iteration 00600, Avg-Loss: 0.2228, Accuracy: 0.9187\n",
      "Validation-epoch 4. Avg-Loss: 0.2641, Accuracy: 0.9037\n"
     ]
    }
   ],
   "source": [
    "# Insipired on LeNet, first proposed in: \n",
    "# https://ieeexplore.ieee.org/abstract/document/726791\n",
    "# PDF: http://www.cs.virginia.edu/~vicente/deeplearning/readings/lecun1998.pdf\n",
    "class LeNet(nn.Module):\n",
    "    def __init__(self):\n",
    "        super(LeNet, self).__init__()\n",
    "        \n",
    "        # Convolutional layers.\n",
    "        self.conv1 = nn.Conv2d(1, 32, 5)\n",
    "        self.conv2 = nn.Conv2d(32, 64, 5)\n",
    "        \n",
    "        # Linear layers.\n",
    "        self.fc1 = nn.Linear(64*4*4, 120)\n",
    "        self.fc2 = nn.Linear(120, 84)\n",
    "        self.fc3 = nn.Linear(84, 10)\n",
    "\n",
    "    def forward(self, x):\n",
    "        # Conv1 + ReLU + MaxPooling.\n",
    "        out = F.relu(self.conv1(x))\n",
    "        out = F.max_pool2d(out, 2)\n",
    "        \n",
    "        # Conv2 + ReLU + MaPooling.\n",
    "        out = F.relu(self.conv2(out))\n",
    "        out = F.max_pool2d(out, 2)\n",
    "        \n",
    "        # This flattens the output of the previous layer into a vector.\n",
    "        out = out.view(out.size(0), -1) \n",
    "        \n",
    "        # Linear layer + ReLU.\n",
    "        out = F.relu(self.fc1(out))\n",
    "        # Linear layer + ReLU.\n",
    "        out = F.relu(self.fc2(out))\n",
    "        # A final linear layer at the end.\n",
    "        out = self.fc3(out)\n",
    "       \n",
    "        # We will not add Softmax here because nn.CrossEntropy does it.\n",
    "        # Read the documentation for nn.CrossEntropy.\n",
    "        return out\n",
    "\n",
    "cnn_model = LeNet()\n",
    "\n",
    "# print(cnn_model) # It shows the network structure.\n",
    "\n",
    "# see: ADAM: A Method for Stochastic Optimization.\n",
    "# https://arxiv.org/pdf/1412.6980.pdf\n",
    "optimizer = optim.Adam(cnn_model.parameters(), lr = 1e-3)\n",
    "\n",
    "train_model(cnn_model, loss_fn, batchSize, trainset, valset, optimizer)"
   ]
  },
  {
   "cell_type": "markdown",
   "metadata": {
    "colab_type": "text",
    "id": "Ilbw19lNz7at"
   },
   "source": [
    "Now we have a working model that classifies images at 90% accuracy. Moreover, this simple convolutional neural network matches the accuracy of the shallow classifier on the very first epoch.\n",
    "\n",
    "You can find a list of results that people have obtained on FashionMNIST using more sophisticated neural networks here, including some accuracies slightly above 95%: https://github.com/zalandoresearch/fashion-mnist"
   ]
  },
  {
   "cell_type": "markdown",
   "metadata": {
    "colab_type": "text",
    "id": "RwiS4j7Y0QDA"
   },
   "source": [
    "### 4. Using a Pre-Trained Convolutional Neural Network -- Inception_v3\n",
    "\n"
   ]
  },
  {
   "cell_type": "markdown",
   "metadata": {
    "colab_type": "text",
    "id": "NtXw6mag8Lr_"
   },
   "source": [
    "In this section we will load a network pretrained on the ImageNet ILSVRC dataset, which has RGB images annotated with one label out of a vocabulary 1000 categories, and use it to make predictions on new images. We will use the Inception_v3 neural network proposed by Google, a successor of their GoogLeNet network which we will analyze during class."
   ]
  },
  {
   "cell_type": "code",
   "execution_count": 10,
   "metadata": {
    "colab": {
     "base_uri": "https://localhost:8080/",
     "height": 51
    },
    "colab_type": "code",
    "id": "exzGdlnJ-DRf",
    "outputId": "275a12d7-2031-4b31-c2c8-effffd05822b"
   },
   "outputs": [
    {
     "name": "stderr",
     "output_type": "stream",
     "text": [
      "'wget' is not recognized as an internal or external command,\n",
      "operable program or batch file.\n",
      "Downloading: \"https://download.pytorch.org/models/inception_v3_google-1a9a5a14.pth\" to C:\\Users\\Saurav/.torch\\models\\inception_v3_google-1a9a5a14.pth\n",
      "\n",
      "0it [00:00, ?it/s]\n",
      "2318336it [00:00, 23175038.81it/s]\n",
      "4513792it [00:00, 22639703.78it/s]\n",
      "6922240it [00:00, 23037069.55it/s]\n",
      "9986048it [00:00, 24884874.26it/s]\n",
      "12681216it [00:00, 25185275.02it/s]\n",
      "15417344it [00:00, 25795616.88it/s]\n",
      "18178048it [00:00, 26230543.66it/s]\n",
      "20791296it [00:00, 26001129.69it/s]\n",
      "23601152it [00:00, 26483809.84it/s]\n",
      "26173440it [00:01, 21727506.93it/s]\n",
      "30441472it [00:01, 25367463.68it/s]\n",
      "33759232it [00:01, 27190616.16it/s]\n",
      "36724736it [00:01, 27569502.60it/s]\n",
      "39657472it [00:01, 27429164.39it/s]\n",
      "42524672it [00:01, 26831868.35it/s]\n",
      "45588480it [00:01, 27570411.26it/s]\n",
      "48414720it [00:01, 27328996.22it/s]\n",
      "51527680it [00:01, 28180917.67it/s]\n",
      "54616064it [00:02, 28627488.41it/s]\n",
      "57516032it [00:02, 27127413.11it/s]\n",
      "60268544it [00:02, 26903449.03it/s]\n",
      "63160320it [00:02, 27471457.20it/s]\n",
      "65929216it [00:02, 27194301.94it/s]\n",
      "68665344it [00:02, 26306665.74it/s]\n",
      "71737344it [00:02, 27196840.52it/s]\n",
      "74801152it [00:02, 27814339.92it/s]\n",
      "77619200it [00:02, 27923048.42it/s]\n",
      "80715776it [00:02, 28747754.65it/s]\n",
      "83673088it [00:03, 28655119.32it/s]\n",
      "86900736it [00:03, 29285139.60it/s]\n",
      "89841664it [00:03, 29048112.04it/s]\n",
      "92758016it [00:03, 29030031.95it/s]\n",
      "95674368it [00:03, 28772956.51it/s]\n",
      "98729984it [00:03, 29225478.78it/s]\n",
      "101695488it [00:03, 29326176.91it/s]\n",
      "104636416it [00:03, 28411241.64it/s]\n",
      "107847680it [00:03, 29304931.70it/s]\n",
      "108857766it [00:03, 27620077.88it/s]"
     ]
    }
   ],
   "source": [
    "import torchvision.models as models\n",
    "\n",
    "# Download list of 1000 categories for the ILSVRC task in right order.\n",
    "!wget -nc -q http://www.cs.virginia.edu/~vicente/vision/imagenet_class_index.json\n",
    "  \n",
    "# Load the pre-trained model from the torchvision package.\n",
    "# https://arxiv.org/abs/1512.00567  # Re-thinking the Inception Architecture.\n",
    "cnn_model = models.inception_v3(pretrained = True)\n",
    "cnn_model.eval();  # Set in evaluation mode! In this case it matters.\n",
    "\n",
    "# print(resnet) # It shows the network structure.\n",
    "# You should instead look at source code here:\n",
    "# https://pytorch.org/docs/stable/_modules/torchvision/models/inception.html#inception_v3"
   ]
  },
  {
   "cell_type": "markdown",
   "metadata": {
    "colab_type": "text",
    "id": "l4U2JHinB4Mo"
   },
   "source": [
    "Now we will use the model, but we have to be careful to use the exact same pre-processing steps for the input as it was done during training. I am providing the code here below that pre-processes images in the same way as this model was trained."
   ]
  },
  {
   "cell_type": "code",
   "execution_count": 11,
   "metadata": {
    "colab": {
     "base_uri": "https://localhost:8080/",
     "height": 417
    },
    "colab_type": "code",
    "id": "Khg2L3QgC1lI",
    "outputId": "20b2d397-dd5c-4456-a68c-4cd184de30c9"
   },
   "outputs": [
    {
     "ename": "FileNotFoundError",
     "evalue": "[Errno 2] No such file or directory: 'imagenet_class_index.json'",
     "output_type": "error",
     "traceback": [
      "\u001b[1;31m---------------------------------------------------------------------------\u001b[0m",
      "\u001b[1;31mFileNotFoundError\u001b[0m                         Traceback (most recent call last)",
      "\u001b[1;32m<ipython-input-11-02806dca6bcd>\u001b[0m in \u001b[0;36m<module>\u001b[1;34m\u001b[0m\n\u001b[0;32m     15\u001b[0m \u001b[1;31m# 2. Load the imagenet class names.\u001b[0m\u001b[1;33m\u001b[0m\u001b[1;33m\u001b[0m\u001b[1;33m\u001b[0m\u001b[0m\n\u001b[0;32m     16\u001b[0m imagenetClasses = {int(idx): entry[1] for (idx, entry) in \n\u001b[1;32m---> 17\u001b[1;33m                    json.load(open('imagenet_class_index.json')).items()}\n\u001b[0m\u001b[0;32m     18\u001b[0m \u001b[1;33m\u001b[0m\u001b[0m\n\u001b[0;32m     19\u001b[0m \u001b[1;31m# 3. Read image from URL into a PIL image type.\u001b[0m\u001b[1;33m\u001b[0m\u001b[1;33m\u001b[0m\u001b[1;33m\u001b[0m\u001b[0m\n",
      "\u001b[1;31mFileNotFoundError\u001b[0m: [Errno 2] No such file or directory: 'imagenet_class_index.json'"
     ]
    }
   ],
   "source": [
    "import torchvision.transforms as transforms\n",
    "from PIL import Image\n",
    "import matplotlib.pyplot as plt\n",
    "import json, io, requests, string\n",
    "\n",
    "# 1. Define the appropriate image pre-processing function.\n",
    "# This has to be the preprocessing function used during training. \n",
    "preprocessFn = transforms.Compose(\n",
    "    [transforms.Resize(256),  # 1. Resize smallest side to 256.\n",
    "     transforms.CenterCrop(224), # 2. Crop the center 224x224 pixels.\n",
    "     transforms.ToTensor(), # 3. Convert to pytorch tensor.\n",
    "     transforms.Normalize(mean = [0.485, 0.456, 0.406],  # normalize.\n",
    "                          std = [0.229, 0.224, 0.225])])\n",
    "\n",
    "# 2. Load the imagenet class names.\n",
    "imagenetClasses = {int(idx): entry[1] for (idx, entry) in \n",
    "                   json.load(open('imagenet_class_index.json')).items()}\n",
    "\n",
    "# 3. Read image from URL into a PIL image type.\n",
    "# This is a picture of a cat I took at the \n",
    "# Edgar Allan Poe's museum in Richmond, VA.\n",
    "# Try other images!\n",
    "img_url = 'http://www.cs.virginia.edu/~vicente/vision/black-cat.jpg'\n",
    "response = requests.get(img_url)\n",
    "img_pil = Image.open(io.BytesIO(response.content))\n",
    "\n",
    "# 4. Forward propagate the image through the CNN.\n",
    "# Unsqueeze adds a dummy batch dimension needed to pass through the model.\n",
    "input_img =  preprocessFn(img_pil).unsqueeze(0)\n",
    "predictions = cnn_model(input_img)\n",
    "\n",
    "# 5. Decode the top 5 classes predicted for this image.\n",
    "# We need to apply softmax because the model outputs the last linear layer\n",
    "# outputs and not softmax scores.\n",
    "probs, indices = (-F.softmax(predictions, dim = 1).data).sort()\n",
    "probs = (-probs).numpy()[0][:5]; indices = indices.numpy()[0][:10]\n",
    "preds = ['P[\\\"' + imagenetClasses[idx] + '\\\"] = ' + ('%.6f' % prob) \\\n",
    "         for (prob, idx) in zip(probs, indices)]\n",
    "\n",
    "# 6. Show image and predictions\n",
    "plt.title('\\n'.join(preds))\n",
    "plt.imshow(img_pil); plt.grid(False); plt.axis('off');"
   ]
  },
  {
   "cell_type": "markdown",
   "metadata": {
    "colab_type": "text",
    "id": "971f_ox4GE_f"
   },
   "source": [
    "### 5. Fine-tuning a Pre-trained Model for a Different Task (and Dataset) \n",
    "\n"
   ]
  },
  {
   "cell_type": "markdown",
   "metadata": {
    "colab_type": "text",
    "id": "lep4SQKDGUGU"
   },
   "source": [
    "Pre-trained models can be adapted to other tasks, by lightly re-training them (with a small learning rate), and replacing some of the last layers with custom layers for a different task. This process is usually referred as fine-tuning a network, and is the usual way of using neural networks for many applications. In this assignment we will be using the MIT Indoor Scenes Dataset introduced at CVPR 2009 http://web.mit.edu/torralba/www/indoor.html. This dataset has more than 15 thousand images belonging to 67 categories of indoor scenes (e.g. meeting room, dining room, toy store, restaurant, etc). "
   ]
  },
  {
   "cell_type": "markdown",
   "metadata": {
    "colab_type": "text",
    "id": "orLtdIoJdcGW"
   },
   "source": [
    "\n",
    "**Preparing the Data - Indoor Place Recognition**\n",
    "\n",
    "\n",
    "When the MIT researchers Ariadna Quattoni and Antonio Torralba performed this work, they only used 67 \\* 80 = 5360 images for training, and 67 \\* 20 = 1340 images for testing, but we will use all the images instead. The tar file with all the images is about 2.4GB but we already downloaded, resized and cropped images to a 256x256 resolution for a total of 235MB. We also separated the images into three groups MIT-test, which is the same test data used in the original work, and [train-uva.tar.gz](https://www.cs.virginia.edu/~vicente/deeplearning/train-uva.tar.gz), [val-uva.tar.gz](https://www.cs.virginia.edu/~vicente/deeplearning/val-uva.tar.gz) which are the rest of the images sub-divided into training and validation sets. We will not use the MIT-test images as this is the test set, so I am not providing the test images at all. The images inside these tar-files were already arranged in the format required to use the [torchvision.datasets.ImageFolder](https://pytorch.org/docs/stable/_modules/torchvision/datasets/folder.html#ImageFolder) class."
   ]
  },
  {
   "cell_type": "code",
   "execution_count": 0,
   "metadata": {
    "colab": {
     "base_uri": "https://localhost:8080/",
     "height": 493
    },
    "colab_type": "code",
    "id": "oPGt-WpxGQtx",
    "outputId": "7c208804-cdec-4cb1-eb9d-e8a65794da1e"
   },
   "outputs": [
    {
     "name": "stdout",
     "output_type": "stream",
     "text": [
      "--2019-02-18 01:59:42--  https://www.cs.virginia.edu/~vicente/deeplearning/val-uva.tar.gz\n",
      "Resolving www.cs.virginia.edu (www.cs.virginia.edu)... 128.143.67.11\n",
      "Connecting to www.cs.virginia.edu (www.cs.virginia.edu)|128.143.67.11|:443... connected.\n",
      "HTTP request sent, awaiting response... 200 OK\n",
      "Length: 17513967 (17M) [application/x-gzip]\n",
      "Saving to: ‘val-uva.tar.gz’\n",
      "\n",
      "val-uva.tar.gz      100%[===================>]  16.70M  7.05MB/s    in 2.4s    \n",
      "\n",
      "2019-02-18 01:59:45 (7.05 MB/s) - ‘val-uva.tar.gz’ saved [17513967/17513967]\n",
      "\n",
      "--2019-02-18 01:59:48--  https://www.cs.virginia.edu/~vicente/deeplearning/train-uva.tar.gz\n",
      "Resolving www.cs.virginia.edu (www.cs.virginia.edu)... 128.143.67.11\n",
      "Connecting to www.cs.virginia.edu (www.cs.virginia.edu)|128.143.67.11|:443... connected.\n",
      "HTTP request sent, awaiting response... 200 OK\n",
      "Length: 170947073 (163M) [application/x-gzip]\n",
      "Saving to: ‘train-uva.tar.gz’\n",
      "\n",
      "train-uva.tar.gz    100%[===================>] 163.03M  15.1MB/s    in 12s     \n",
      "\n",
      "2019-02-18 02:00:01 (13.4 MB/s) - ‘train-uva.tar.gz’ saved [170947073/170947073]\n",
      "\n",
      "tar: Ignoring unknown extended header keyword 'SCHILY.dev'\n",
      "tar: Ignoring unknown extended header keyword 'SCHILY.ino'\n",
      "tar: Ignoring unknown extended header keyword 'SCHILY.nlink'\n",
      "tar: Ignoring unknown extended header keyword 'SCHILY.dev'\n",
      "tar: Ignoring unknown extended header keyword 'SCHILY.ino'\n",
      "tar: Ignoring unknown extended header keyword 'SCHILY.nlink'\n"
     ]
    }
   ],
   "source": [
    "# First download the data files.\n",
    "!wget -nc https://www.cs.virginia.edu/~vicente/deeplearning/val-uva.tar.gz\n",
    "!wget -nc https://www.cs.virginia.edu/~vicente/deeplearning/train-uva.tar.gz\n",
    "!tar xf val-uva.tar.gz\n",
    "!tar xf train-uva.tar.gz"
   ]
  },
  {
   "cell_type": "markdown",
   "metadata": {
    "colab_type": "text",
    "id": "5DTHtbWVeR7J"
   },
   "source": [
    "**Data Augmentation: ** We often want to apply different transformations during training compared to testing to augment the data during training. In pytorch we can achieve this with minimal modifications by specifying a slightly different transformation function during training. However, one has to be careful that both training and testing images are subject to similar transformations."
   ]
  },
  {
   "cell_type": "code",
   "execution_count": 0,
   "metadata": {
    "colab": {
     "base_uri": "https://localhost:8080/",
     "height": 362
    },
    "colab_type": "code",
    "id": "a6hEvENbc26B",
    "outputId": "d63a68b7-9c02-4322-aef6-b4fa4c237d80"
   },
   "outputs": [
    {
     "data": {
      "image/png": "[encoded data removed]",
      "text/plain": [
       "<Figure size 576x396 with 1 Axes>"
      ]
     },
     "metadata": {
      "tags": []
     },
     "output_type": "display_data"
    }
   ],
   "source": [
    "import torchvision.datasets as datasets\n",
    "import matplotlib.pyplot as plt\n",
    "\n",
    "train_transform = transforms.Compose(\n",
    "    [transforms.Resize(256),  # 1. Resize smallest side to 256.\n",
    "     transforms.RandomCrop(224), # 2. Crop random square of 224x224 pixels.\n",
    "     transforms.RandomHorizontalFlip(),\n",
    "     transforms.ToTensor(), # 3. Convert to pytorch tensor.\n",
    "     transforms.Normalize(mean = [0.485, 0.456, 0.406],  # normalize.\n",
    "                          std = [0.229, 0.224, 0.225])])\n",
    "\n",
    "test_transform = transforms.Compose(\n",
    "    [transforms.Resize(256),  # 1. Resize smallest side to 256.\n",
    "     transforms.CenterCrop(224), # 2. Crop center square of 224x224 pixels.\n",
    "     transforms.ToTensor(), # 3. Convert to pytorch tensor.\n",
    "     transforms.Normalize(mean = [0.485, 0.456, 0.406],  # normalize.\n",
    "                          std = [0.229, 0.224, 0.225])])\n",
    "\n",
    "train_dataset = datasets.ImageFolder(\"train-uva\", train_transform)\n",
    "val_dataset = datasets.ImageFolder(\"val-uva\", test_transform)\n",
    "\n",
    "# Try seeing other images in this dataset.\n",
    "# If you run this cell multiple times, you will perhaps notice\n",
    "# that the images are indeed slightly shifted (due to random cropping),\n",
    "# or they are mirrored (due to the horizonal flipping).\n",
    "# Only for the train_dataset this will happen.\n",
    "my_image, my_label = train_dataset[1234]\n",
    "\n",
    "# Show the image and its label.\n",
    "plt.figure()\n",
    "plt.title(\"Category: \" + train_dataset.classes[my_label])\n",
    "# Undo normalization of the pixel values.\n",
    "for t, m, s in zip(my_image, [0.485, 0.456, 0.406], [0.229, 0.224, 0.225]):\n",
    "  t.mul_(s).add_(m)\n",
    "# Re-arrange dimensions so it is height x width x channels.\n",
    "plt.imshow(my_image.transpose(0,2).transpose(0,1));\n",
    "plt.grid(False); plt.axis('off');"
   ]
  },
  {
   "cell_type": "markdown",
   "metadata": {
    "colab_type": "text",
    "id": "6SjAU6lNkt63"
   },
   "source": [
    "The rest of this tutorial is unfinished and is to be completed as part of the assignment, instructions follow below."
   ]
  },
  {
   "cell_type": "markdown",
   "metadata": {
    "colab_type": "text",
    "id": "L_8eQuKBi7u0"
   },
   "source": [
    "## Assignment Questions [10pts]"
   ]
  },
  {
   "cell_type": "markdown",
   "metadata": {
    "colab_type": "text",
    "id": "HpPb-CRh47Ct"
   },
   "source": [
    "### 1. Fine-tuning [3pts]: \n",
    "Fine-tune the Alexnet model from (Krizhevsky, Sustkever, Hinton 2012) for Indoor Scene Recognition using the MIT dataset, and provide a training/validation plot for losses and accuracy. The idea of \"fine-tuning\" is to train the network only slightly (small learning rate) so that it learns the new task but doesn't completely over-writes the previous weights. This is usually referred to as \"fine-tuning\". What is a reasonable accuracy on this dataset? You can check this paper from 2014 by Zhou et al which contains more recent results  http://places.csail.mit.edu/places_NIPS14.pdf. It seems pre-training on Imagenet should lead to 56% accuracy using a version of Alexnet, so this is the expectation here. You have to select optimizer, batch size, etc, to make this happen."
   ]
  },
  {
   "cell_type": "code",
   "execution_count": 0,
   "metadata": {
    "colab": {},
    "colab_type": "code",
    "id": "0ReR6YZC47eW"
   },
   "outputs": [],
   "source": [
    "import torchvision.models as models\n",
    "\n",
    "cnn_model = models.alexnet(pretrained = True) # no pretraining\n",
    "# Feel free to replace the classification layer differently than this.\n",
    "# See: https://github.com/pytorch/vision/blob/master/torchvision/models/alexnet.py\n",
    "cnn_model.classifier = nn.Linear(9216, 67) # replace classification layer.\n",
    "cnn_model.eval();"
   ]
  },
  {
   "cell_type": "markdown",
   "metadata": {
    "colab_type": "text",
    "id": "KjmoySEOw714"
   },
   "source": [
    "Write your code below, feel free to either modify or just use the train_model function defined earlier in this notebook. The above cell allocates a lot of memory so it is better to write the training code in the cell below."
   ]
  },
  {
   "cell_type": "code",
   "execution_count": 0,
   "metadata": {
    "colab": {},
    "colab_type": "code",
    "id": "1LeIDSn0o2ns"
   },
   "outputs": [],
   "source": [
    "# Your training code."
   ]
  },
  {
   "cell_type": "markdown",
   "metadata": {
    "colab_type": "text",
    "id": "PwOeGHEVlkne"
   },
   "source": [
    "### 2. Deep Features [3pts]:\n",
    "Fine-tuning the Inception_v3 network would take a lot of GPU memory and computing time. Another alternative to use a pretrained network is to just use it as a source of features. The idea is to use an intermediate ouput of a pre-trained network to convert images into vectors. Typically the output vector in the layer before the final predictions is used for this purpose. Once the images in both the training set are converted into vectors, we can try a linear + softmax classifier or any other shallow classifier. Try using either the pretrained Inception_v3 network or the pretrained Resnet50 network for this purpose, and train a classifier based on these \"deep features\". For this part it is sufficient if you report your final validation accuracy. Use the same data and task as in Question 1."
   ]
  },
  {
   "cell_type": "code",
   "execution_count": 0,
   "metadata": {
    "colab": {},
    "colab_type": "code",
    "id": "NMhIaABAlfGA"
   },
   "outputs": [],
   "source": [
    "# Your code for pre-computing the deep features goes here."
   ]
  },
  {
   "cell_type": "code",
   "execution_count": 0,
   "metadata": {
    "colab": {},
    "colab_type": "code",
    "id": "cA2NI39ll9pN"
   },
   "outputs": [],
   "source": [
    "# Your code for training your shallow classifier goes here."
   ]
  },
  {
   "cell_type": "markdown",
   "metadata": {
    "colab_type": "text",
    "id": "i8ag6y3FyDng"
   },
   "source": [
    "### 3. Batch-Normalization + Max-Pool Removal [2pts]. \n",
    "Below is the implementation of Alexnet included in pytorch, after this network was released in NeurIPS 2012, several other ideas regarding individual layers were introduced to make models better. In this section, modify the code of Alexnet so that it uses BatchNormalization layers (Ioffe and Szegedy https://arxiv.org/abs/1502.03167) after each convolutional layer. You don't need to implement a BatchNorm layer, just use the one included in Pytorch. In another network such as the VGG Network (https://arxiv.org/abs/1409.1556), it was shown that one does not need to use max-pooling layers after all convolutional layers, remove all the max-pooling layers of Alexnet so that this is still a valid network. **Note: **You don't need to train this model."
   ]
  },
  {
   "cell_type": "code",
   "execution_count": 0,
   "metadata": {
    "colab": {
     "base_uri": "https://localhost:8080/",
     "height": 51
    },
    "colab_type": "code",
    "id": "cuL-gZ_EyCjv",
    "outputId": "2590ca11-1d01-4552-87ad-bbabf92389e8"
   },
   "outputs": [
    {
     "name": "stdout",
     "output_type": "stream",
     "text": [
      "input_batch.shape: torch.Size([10, 3, 224, 224])\n",
      "scores.shape: torch.Size([10, 1000])\n"
     ]
    }
   ],
   "source": [
    "class AlexNet(nn.Module):\n",
    "\n",
    "    def __init__(self, num_classes=1000):\n",
    "        super(AlexNet, self).__init__()\n",
    "        self.features = nn.Sequential(\n",
    "            nn.Conv2d(3, 64, kernel_size=11, stride=4, padding=2),\n",
    "            nn.ReLU(inplace=True),\n",
    "            nn.MaxPool2d(kernel_size=3, stride=2),\n",
    "            \n",
    "            nn.Conv2d(64, 192, kernel_size=5, padding=2),\n",
    "            nn.ReLU(inplace=True),\n",
    "            nn.MaxPool2d(kernel_size=3, stride=2),\n",
    "            \n",
    "            nn.Conv2d(192, 384, kernel_size=3, padding=1),\n",
    "            nn.ReLU(inplace=True),\n",
    "            \n",
    "            nn.Conv2d(384, 256, kernel_size=3, padding=1),\n",
    "            nn.ReLU(inplace=True),\n",
    "            \n",
    "            nn.Conv2d(256, 256, kernel_size=3, padding=1),\n",
    "            nn.ReLU(inplace=True),\n",
    "            nn.MaxPool2d(kernel_size=3, stride=2),\n",
    "        )\n",
    "        self.classifier = nn.Sequential(\n",
    "            nn.Dropout(),\n",
    "            nn.Linear(256 * 6 * 6, 4096),\n",
    "            nn.ReLU(inplace=True),\n",
    "            nn.Dropout(),\n",
    "            nn.Linear(4096, 4096),\n",
    "            nn.ReLU(inplace=True),\n",
    "            nn.Linear(4096, num_classes),\n",
    "        )\n",
    "\n",
    "    def forward(self, x):\n",
    "        x = self.features(x)\n",
    "        x = x.view(x.size(0), 256 * 6 * 6)\n",
    "        x = self.classifier(x)\n",
    "        return x\n",
    "\n",
    "# TEST: This should still work after the two required modifications.\n",
    "# The output should be a tensor of size batchSize x numPredictions\n",
    "mock_input_batch = torch.zeros(10, 3, 224, 224).normal_(0, 0.01)\n",
    "\n",
    "alexnet = AlexNet()\n",
    "alexnet.eval()\n",
    "\n",
    "print('input_batch.shape:', mock_input_batch.shape)\n",
    "scores = alexnet(mock_input_batch)\n",
    "print('scores.shape:', scores.shape)"
   ]
  },
  {
   "cell_type": "markdown",
   "metadata": {
    "colab_type": "text",
    "id": "VSJR-cOqz8VQ"
   },
   "source": [
    "### 4. Skip-Connections (Residuals) + Inception Layers [2pts]. \n",
    "Below is the implementation of Alexnet included in pytorch, after this network was released in NeurIPS 2012, several other ideas regarding architectural changes were introduced to make models better. Modify the code of AlexNet below so that it has a skip connection between the third and fifth convolutional layer (see ResNet by He et al https://arxiv.org/abs/1512.03385 ). Additionally, replace the second convolutional layer with an Inception Layer that has three branches, each using filters of different size (see Inception_v3 by Szegedy et al https://arxiv.org/abs/1512.00567 ). **Note: **You don't need to train this model."
   ]
  },
  {
   "cell_type": "code",
   "execution_count": 0,
   "metadata": {
    "colab": {
     "base_uri": "https://localhost:8080/",
     "height": 51
    },
    "colab_type": "code",
    "id": "cEVon138y4Zo",
    "outputId": "547f9442-751e-409d-9eba-eda56fb4250f"
   },
   "outputs": [
    {
     "name": "stdout",
     "output_type": "stream",
     "text": [
      "input_batch.shape: torch.Size([10, 3, 224, 224])\n",
      "scores.shape: torch.Size([10, 1000])\n"
     ]
    }
   ],
   "source": [
    "class AlexNet(nn.Module):\n",
    "\n",
    "    def __init__(self, num_classes=1000):\n",
    "        super(AlexNet, self).__init__()\n",
    "        self.features = nn.Sequential(\n",
    "            nn.Conv2d(3, 64, kernel_size=11, stride=4, padding=2),\n",
    "            nn.ReLU(inplace=True),\n",
    "            nn.MaxPool2d(kernel_size=3, stride=2),\n",
    "            \n",
    "            nn.Conv2d(64, 192, kernel_size=5, padding=2),\n",
    "            nn.ReLU(inplace=True),\n",
    "            nn.MaxPool2d(kernel_size=3, stride=2),\n",
    "            \n",
    "            nn.Conv2d(192, 384, kernel_size=3, padding=1),\n",
    "            nn.ReLU(inplace=True),\n",
    "            \n",
    "            nn.Conv2d(384, 256, kernel_size=3, padding=1),\n",
    "            nn.ReLU(inplace=True),\n",
    "            \n",
    "            nn.Conv2d(256, 256, kernel_size=3, padding=1),\n",
    "            nn.ReLU(inplace=True),\n",
    "            nn.MaxPool2d(kernel_size=3, stride=2),\n",
    "        )\n",
    "        self.classifier = nn.Sequential(\n",
    "            nn.Dropout(),\n",
    "            nn.Linear(256 * 6 * 6, 4096),\n",
    "            nn.ReLU(inplace=True),\n",
    "            nn.Dropout(),\n",
    "            nn.Linear(4096, 4096),\n",
    "            nn.ReLU(inplace=True),\n",
    "            nn.Linear(4096, num_classes),\n",
    "        )\n",
    "\n",
    "    def forward(self, x):\n",
    "        x = self.features(x)\n",
    "        x = x.view(x.size(0), 256 * 6 * 6)\n",
    "        x = self.classifier(x)\n",
    "        return x\n",
    "\n",
    "# TEST: This should still work after the two required modifications.\n",
    "# The output should be a tensor of size batchSize x numPredictions\n",
    "mock_input_batch = torch.zeros(10, 3, 224, 224).normal_(0, 0.01)\n",
    "\n",
    "alexnet = AlexNet()\n",
    "alexnet.eval()\n",
    "\n",
    "print('input_batch.shape:', mock_input_batch.shape)\n",
    "scores = alexnet(mock_input_batch)\n",
    "print('scores.shape:', scores.shape)"
   ]
  }
 ],
 "metadata": {
  "accelerator": "GPU",
  "colab": {
   "collapsed_sections": [
    "Y5AUSc3jufKi",
    "PGdZ-bmxb473",
    "rL8RK38atNE5",
    "RwiS4j7Y0QDA",
    "971f_ox4GE_f",
    "L_8eQuKBi7u0",
    "HpPb-CRh47Ct",
    "PwOeGHEVlkne",
    "i8ag6y3FyDng",
    "VSJR-cOqz8VQ"
   ],
   "name": "convolutional_neural_networks_assignment.ipynb",
   "provenance": [],
   "version": "0.3.2"
  },
  "kernelspec": {
   "display_name": "Python 3",
   "language": "python",
   "name": "python3"
  },
  "language_info": {
   "codemirror_mode": {
    "name": "ipython",
    "version": 3
   },
   "file_extension": ".py",
   "mimetype": "text/x-python",
   "name": "python",
   "nbconvert_exporter": "python",
   "pygments_lexer": "ipython3",
   "version": "3.6.8"
  }
 },
 "nbformat": 4,
 "nbformat_minor": 1
}
